{
 "cells": [
  {
   "cell_type": "code",
   "execution_count": 1,
   "metadata": {},
   "outputs": [],
   "source": [
    "import os\n",
    "import pandas as pd"
   ]
  },
  {
   "cell_type": "code",
   "execution_count": 2,
   "metadata": {},
   "outputs": [],
   "source": [
    "trainpath = '/Users/yngtodd/data/aclImdb/train'\n",
    "testpath = '/Users/yngtodd/data/aclImdb/test'"
   ]
  },
  {
   "cell_type": "code",
   "execution_count": 3,
   "metadata": {},
   "outputs": [],
   "source": [
    "out_train = '/Users/yngtodd/src/ornl/cnn-text-classification-tf/data/imdb/train'\n",
    "out_test = '/Users/yngtodd/src/ornl/cnn-text-classification-tf/data/imdb/test'"
   ]
  },
  {
   "cell_type": "code",
   "execution_count": 4,
   "metadata": {},
   "outputs": [],
   "source": [
    "def get_file_paths(path, sentiment):\n",
    "    path = os.path.join(path, sentiment)\n",
    "    files = os.listdir(path)\n",
    "    paths = [os.path.join(path, x) for x in files]\n",
    "    return paths"
   ]
  },
  {
   "cell_type": "code",
   "execution_count": 5,
   "metadata": {},
   "outputs": [],
   "source": [
    "train_pos = get_file_paths(trainpath, 'pos')\n",
    "train_neg = get_file_paths(trainpath, 'neg')\n",
    "\n",
    "test_pos = get_file_paths(testpath, 'pos')\n",
    "test_neg = get_file_paths(testpath, 'neg')"
   ]
  },
  {
   "cell_type": "code",
   "execution_count": 6,
   "metadata": {},
   "outputs": [],
   "source": [
    "def read_file(file):\n",
    "    with open(file, \"r\", encoding='utf-8') as f:\n",
    "        data = f.readlines()\n",
    "    data = data[0] + '\\n'\n",
    "    return data"
   ]
  },
  {
   "cell_type": "code",
   "execution_count": 9,
   "metadata": {},
   "outputs": [],
   "source": [
    "def process_data(datapaths, savefile=None):\n",
    "    text = [read_file(x) for x in datapaths]\n",
    "    \n",
    "    if savefile:\n",
    "        with open(savefile, 'w') as f:\n",
    "            f.writelines(text)\n",
    "            \n",
    "    return text"
   ]
  },
  {
   "cell_type": "code",
   "execution_count": 13,
   "metadata": {},
   "outputs": [],
   "source": [
    "train_pos_path = os.path.join(out_train, 'imdb_train.pos')\n",
    "train_neg_path = os.path.join(out_train, 'imdb_train.neg')\n",
    "test_pos_path = os.path.join(out_test, 'imdb_test.pos')\n",
    "test_neg_path = os.path.join(out_test, 'imdb_test.neg')"
   ]
  },
  {
   "cell_type": "code",
   "execution_count": 11,
   "metadata": {},
   "outputs": [],
   "source": [
    "imdb_test_pos = process_data(test_pos, test_pos_path)"
   ]
  },
  {
   "cell_type": "code",
   "execution_count": 12,
   "metadata": {},
   "outputs": [],
   "source": [
    "imdb_test_neg = process_data(test_neg, test_neg_path)"
   ]
  },
  {
   "cell_type": "code",
   "execution_count": 47,
   "metadata": {},
   "outputs": [],
   "source": [
    "imdb_train_neg = process_data(train_neg, train_neg_path)"
   ]
  },
  {
   "cell_type": "code",
   "execution_count": 14,
   "metadata": {},
   "outputs": [],
   "source": [
    "imdb_train_pos = process_data(train_pos, train_neg_path)"
   ]
  },
  {
   "cell_type": "code",
   "execution_count": 48,
   "metadata": {},
   "outputs": [
    {
     "data": {
      "text/plain": [
       "\"Working with one of the best Shakespeare sources, this film manages to be creditable to it's source, whilst still appealing to a wider audience.<br /><br />Branagh steals the film from under Fishburne's nose, and there's a talented cast on good form.\\n\""
      ]
     },
     "execution_count": 48,
     "metadata": {},
     "output_type": "execute_result"
    }
   ],
   "source": [
    "imdb_train_neg[0]"
   ]
  },
  {
   "cell_type": "code",
   "execution_count": null,
   "metadata": {},
   "outputs": [],
   "source": []
  }
 ],
 "metadata": {
  "kernelspec": {
   "display_name": "Python 3",
   "language": "python",
   "name": "python3"
  },
  "language_info": {
   "codemirror_mode": {
    "name": "ipython",
    "version": 3
   },
   "file_extension": ".py",
   "mimetype": "text/x-python",
   "name": "python",
   "nbconvert_exporter": "python",
   "pygments_lexer": "ipython3",
   "version": "3.7.2"
  }
 },
 "nbformat": 4,
 "nbformat_minor": 2
}
